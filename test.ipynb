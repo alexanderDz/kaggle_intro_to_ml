{
  "nbformat": 4,
  "nbformat_minor": 0,
  "metadata": {
    "colab": {
      "provenance": [],
      "authorship_tag": "ABX9TyOgzAkgtn7BbS+TYdHu7Ef4"
    },
    "kernelspec": {
      "name": "python3",
      "display_name": "Python 3"
    },
    "language_info": {
      "name": "python"
    }
  },
  "cells": [
    {
      "cell_type": "code",
      "execution_count": null,
      "metadata": {
        "id": "Hm82qK_fJJF0"
      },
      "outputs": [],
      "source": [
        "print(\"testing\")"
      ]
    },
    {
      "cell_type": "code",
      "source": [
        "print(\"hello\")"
      ],
      "metadata": {
        "id": "khyfgt8SQYfO"
      },
      "execution_count": null,
      "outputs": []
    }
  ]
}